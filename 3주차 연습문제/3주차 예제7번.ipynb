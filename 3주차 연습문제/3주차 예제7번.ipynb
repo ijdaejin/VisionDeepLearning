{
 "cells": [
  {
   "cell_type": "code",
   "execution_count": 1,
   "id": "82d776c8",
   "metadata": {},
   "outputs": [],
   "source": [
    "import cv2 as cv\n",
    "import numpy as np\n",
    "\n"
   ]
  },
  {
   "cell_type": "code",
   "execution_count": 6,
   "id": "71a4fea2",
   "metadata": {},
   "outputs": [],
   "source": [
    "img = cv.imread('soccer.jpg')\n",
    "img = cv.resize(img, dsize=(0, 0), fx=0.4, fy=0.4)\n",
    "gray = cv.cvtColor(img, cv.COLOR_BGR2GRAY)\n",
    "cv.putText(gray, 'soccer', (10, 20), cv.FONT_HERSHEY_SIMPLEX, 0.7, (255, 255, 255), 2)\n",
    "\n",
    "\n",
    "\n",
    "cv.imshow('Gaussian', img)\n",
    "cv.imshow('Median', gray)\n",
    "\n",
    "cv.waitKey(0)\n",
    "cv.destroyAllWindows()"
   ]
  },
  {
   "cell_type": "code",
   "execution_count": 7,
   "id": "cc633d37",
   "metadata": {},
   "outputs": [],
   "source": [
    "gaussian = np.hstack((cv.GaussianBlur(gray, (5, 5), 0.0), cv.GaussianBlur(gray, (9, 9), 0.0), cv.GaussianBlur(gray, (15, 15), 0.0)))\n",
    "\n",
    "median = np.hstack((cv.medianBlur(gray, 5), cv.medianBlur(gray, 9), cv.medianBlur(gray, 15)))\n",
    "\n",
    "cv.imshow('Gaussian', gaussian)\n",
    "cv.imshow('Median', median)\n",
    "\n",
    "cv.waitKey(0)\n",
    "cv.destroyAllWindows()"
   ]
  },
  {
   "cell_type": "code",
   "execution_count": null,
   "id": "2ba803e8",
   "metadata": {},
   "outputs": [],
   "source": []
  }
 ],
 "metadata": {
  "kernelspec": {
   "display_name": "Python 3 (ipykernel)",
   "language": "python",
   "name": "python3"
  },
  "language_info": {
   "codemirror_mode": {
    "name": "ipython",
    "version": 3
   },
   "file_extension": ".py",
   "mimetype": "text/x-python",
   "name": "python",
   "nbconvert_exporter": "python",
   "pygments_lexer": "ipython3",
   "version": "3.9.12"
  }
 },
 "nbformat": 4,
 "nbformat_minor": 5
}
