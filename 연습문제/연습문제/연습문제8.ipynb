{
 "cells": [
  {
   "cell_type": "code",
   "execution_count": null,
   "id": "8324ec34",
   "metadata": {},
   "outputs": [],
   "source": [
    "import cv2 as cv\n",
    "import sys\n",
    "\n",
    "img = cv.imread('./laughing_park.jpg')\n",
    "\n",
    "if img is None:\n",
    "    sys.exit('파일을 찾을 수 없습니다.')\n",
    "\n",
    "def draw(event, x, y,flags, param):\n",
    "    global ix, iy\n",
    "    \n",
    "    if event == cv.EVENT_LBUTTONDOWN:\n",
    "        ix, iy = x, y\n",
    "    elif event==cv.EVENT_LBUTTONUP:\n",
    "        cv.rectangle(img,(ix,iy),(x,y),(0,0,255),2)\n",
    "    elif event ==cv.EVENT_RBUTTONDOWN:\n",
    "        ix, iy  = x,y\n",
    "    elif event ==cv.EVENT_RBUTTONUP:\n",
    "        cv.circle(img,(ix,iy),(x-ix)-(y-iy),(255,0,0),2)\n",
    "    cv.imshow('Drawing', img)\n",
    "\n",
    "cv.namedWindow('Drawing')\n",
    "cv.imshow('Drawing', img)\n",
    "\n",
    "cv.setMouseCallback('Drawing', draw)\n",
    "\n",
    "while(True):\n",
    "    if cv.waitKey(1) == ord('q'):        \n",
    "        cv.destroyAllWindows()\n",
    "        break\n"
   ]
  }
 ],
 "metadata": {
  "kernelspec": {
   "display_name": "Python 3 (ipykernel)",
   "language": "python",
   "name": "python3"
  },
  "language_info": {
   "codemirror_mode": {
    "name": "ipython",
    "version": 3
   },
   "file_extension": ".py",
   "mimetype": "text/x-python",
   "name": "python",
   "nbconvert_exporter": "python",
   "pygments_lexer": "ipython3",
   "version": "3.9.12"
  }
 },
 "nbformat": 4,
 "nbformat_minor": 5
}
