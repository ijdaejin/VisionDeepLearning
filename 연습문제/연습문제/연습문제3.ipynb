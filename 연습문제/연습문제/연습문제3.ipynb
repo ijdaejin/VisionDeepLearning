{
 "cells": [
  {
   "cell_type": "code",
   "execution_count": null,
   "id": "d770ac97",
   "metadata": {},
   "outputs": [],
   "source": [
    "import cv2 as cv\n",
    "import sys\n",
    "\n",
    "img1=cv.imread('./soccer.jpg')\n",
    "img2=cv.imread('./son.jpg')\n",
    "if img1 is None:\n",
    "    sys.exit('파일을 찾을 수 없습니다.')\n",
    "if img2 is None:\n",
    "    sys.exit('파일을 찾을 수 없습니다.')\n",
    "\n",
    "cv.imshow('Soccer Image',img1) #사진1 표시\n",
    "cv.imshow('son Image',img2)   #사진2 표시\n",
    "cv.waitKey()\n",
    "cv.destroyAllWindows()"
   ]
  }
 ],
 "metadata": {
  "kernelspec": {
   "display_name": "Python 3 (ipykernel)",
   "language": "python",
   "name": "python3"
  },
  "language_info": {
   "codemirror_mode": {
    "name": "ipython",
    "version": 3
   },
   "file_extension": ".py",
   "mimetype": "text/x-python",
   "name": "python",
   "nbconvert_exporter": "python",
   "pygments_lexer": "ipython3",
   "version": "3.9.12"
  }
 },
 "nbformat": 4,
 "nbformat_minor": 5
}
