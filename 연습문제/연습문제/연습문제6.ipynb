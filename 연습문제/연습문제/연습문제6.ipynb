{
 "cells": [
  {
   "cell_type": "code",
   "execution_count": 15,
   "id": "30bd9161",
   "metadata": {},
   "outputs": [],
   "source": [
    "import cv2 as cv\n",
    "import sys\n",
    "\n",
    "img=cv.imread('./laughing_park.jpg')\n",
    "\n",
    "if img is None:\n",
    "    sys.exit(\"파일을 찾을 수 없습니다.\")\n",
    "    \n",
    "cv.rectangle(img,(100,150),(300,350),(0,0,255),2)\n",
    "cv.arrowedLine(img,(150,50),(220,120),(0,255,0),2)\n",
    "cv.putText(img,'laugh',(90,30),cv.FONT_HERSHEY_SIMPLEX,1,(255,0,0),2)\n",
    "\n",
    "cv.imshow('Draw',img)\n",
    "\n",
    "cv.waitKey()\n",
    "cv.destroyAllWindows()"
   ]
  },
  {
   "cell_type": "code",
   "execution_count": null,
   "id": "da7b04c5",
   "metadata": {},
   "outputs": [],
   "source": []
  }
 ],
 "metadata": {
  "kernelspec": {
   "display_name": "Python 3 (ipykernel)",
   "language": "python",
   "name": "python3"
  },
  "language_info": {
   "codemirror_mode": {
    "name": "ipython",
    "version": 3
   },
   "file_extension": ".py",
   "mimetype": "text/x-python",
   "name": "python",
   "nbconvert_exporter": "python",
   "pygments_lexer": "ipython3",
   "version": "3.9.12"
  }
 },
 "nbformat": 4,
 "nbformat_minor": 5
}
